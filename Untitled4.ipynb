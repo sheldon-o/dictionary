{
  "nbformat": 4,
  "nbformat_minor": 0,
  "metadata": {
    "colab": {
      "name": "Untitled4.ipynb",
      "provenance": [],
      "authorship_tag": "ABX9TyOTuyAO/VGpzMCZVoOjmML/"
    },
    "kernelspec": {
      "name": "python3",
      "display_name": "Python 3"
    },
    "language_info": {
      "name": "python"
    }
  },
  "cells": [
    {
      "cell_type": "code",
      "source": [
        ""
      ],
      "metadata": {
        "id": "FfA0ClfU8q16"
      },
      "execution_count": null,
      "outputs": []
    },
    {
      "cell_type": "code",
      "execution_count": 22,
      "metadata": {
        "colab": {
          "base_uri": "https://localhost:8080/"
        },
        "id": "T_Pu8NwE5O3d",
        "outputId": "c7028480-2ff4-4aaf-c9c6-507fc86a1f3e"
      },
      "outputs": [
        {
          "output_type": "stream",
          "name": "stdout",
          "text": [
            "enter the  wprd to search:shivam\n",
            "you mean this sham \n",
            "pyess y or ny\n",
            "['To act as if something is true.']\n",
            "To act as if something is true.\n"
          ]
        }
      ],
      "source": [
        "# dictionary == where to get data  // from json file\n",
        "# word matching algorithm\n",
        "from fnmatch import translate\n",
        "from difflib import get_close_matches\n",
        "import json\n",
        "data = json.load(open(\"/data.json\"))\n",
        "def find(word):\n",
        "    word= word.lower()\n",
        "    if word in data:\n",
        "        return data[word]\n",
        "    elif word.title() in data:\n",
        "          return data[word.tittle()]\n",
        "    elif word.upper() in data:\n",
        "          return data[word.upper()]\n",
        "    elif len(get_close_matches(word,data.keys()))>0:\n",
        "      print(\"you mean this %s \" %get_close_matches(word,data.keys())[0])\n",
        "      decide=input(\"pyess y or n:\")\n",
        "      if decide ==\"y\":\n",
        "        return data[get_close_matches(word,data.keys())[0]]\n",
        "      elif decide=='n':\n",
        "        return (\"enter correct word then\")\n",
        "      else:\n",
        "        return (\"entered wrong command\")\n",
        "\n",
        "\n",
        "    else:\n",
        "        print(\"wrong word entered\")\n",
        "\n",
        "\n",
        "word=input(\"enter the  wprd to search:\")\n",
        "\n",
        "output = find(word)\n",
        "print(output)\n",
        "if type(output) is list:\n",
        "  for i in output:\n",
        "    print(i)\n",
        "else:\n",
        "  print(output)\n"
      ]
    }
  ]
}